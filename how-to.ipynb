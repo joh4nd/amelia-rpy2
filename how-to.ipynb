{
 "cells": [
  {
   "cell_type": "markdown",
   "metadata": {},
   "source": [
    "The [setup](setup.md) file describes technical aspects of making pythno, rpy2 and amelia run."
   ]
  },
  {
   "cell_type": "code",
   "execution_count": null,
   "metadata": {},
   "outputs": [],
   "source": [
    "from rpy2.robjects.vectors import StrVector\n",
    "from rpy2.robjects.packages import importr\n",
    "Amelia = importr('Amelia')\n",
    "import numpy as np\n",
    "\n",
    "# refer to Amelia docs for args\n",
    "\n",
    "imputed = Amelia.amelia(x = dataframe,\n",
    "              m = 1,\n",
    "              p2s = 1,\n",
    "              idvars = StrVector(['row.names','col1']), # if Pandas df with an index then use 'row.names'\n",
    "              noms = StrVector([\"colx\",\"coly\"]),\n",
    "              ords = \"colz\",\n",
    "              ts = \"datetime\",\n",
    "              cs = \"higherlvl-id\",\n",
    "              empri = 0.05 * len(dataframe),\n",
    "              polytime = 3,\n",
    "              splinetime = 9,\n",
    "              intercs = True,\n",
    "              bounds = np.array([[10, 0, 1000], [11, 0, 1000], [12, 0, 1000]]), # the specific dimensions of the dataframe\n",
    "              parallel = 'multicore',\n",
    "              ncpus = 8) # cpus on computer\n"
   ]
  }
 ],
 "metadata": {
  "language_info": {
   "name": "python"
  }
 },
 "nbformat": 4,
 "nbformat_minor": 2
}
